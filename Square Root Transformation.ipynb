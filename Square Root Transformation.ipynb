{
 "cells": [
  {
   "cell_type": "code",
   "execution_count": 13,
   "id": "42d2f7ce-8e30-4c04-b604-dfded4c6b376",
   "metadata": {},
   "outputs": [],
   "source": [
    "import numpy as np\n",
    "import pandas as pd \n",
    "import seaborn as sns\n",
    "import matplotlib.pyplot as plt\n",
    "from scipy.stats import skew"
   ]
  },
  {
   "cell_type": "code",
   "execution_count": 8,
   "id": "abd2a039-28d0-46ef-b26e-bac92e100c77",
   "metadata": {},
   "outputs": [],
   "source": [
    "np.random.seed(3)\n",
    "data = {\n",
    "'value' : np.random.exponential(scale = 4.0 ,size = 1000 ) \n",
    "}\n",
    "\n",
    "df = pd.DataFrame(data)"
   ]
  },
  {
   "cell_type": "code",
   "execution_count": 9,
   "id": "5b8b95ab-4e22-4363-9cfa-7344a50f9d25",
   "metadata": {},
   "outputs": [
    {
     "data": {
      "text/html": [
       "<div>\n",
       "<style scoped>\n",
       "    .dataframe tbody tr th:only-of-type {\n",
       "        vertical-align: middle;\n",
       "    }\n",
       "\n",
       "    .dataframe tbody tr th {\n",
       "        vertical-align: top;\n",
       "    }\n",
       "\n",
       "    .dataframe thead th {\n",
       "        text-align: right;\n",
       "    }\n",
       "</style>\n",
       "<table border=\"1\" class=\"dataframe\">\n",
       "  <thead>\n",
       "    <tr style=\"text-align: right;\">\n",
       "      <th></th>\n",
       "      <th>value</th>\n",
       "    </tr>\n",
       "  </thead>\n",
       "  <tbody>\n",
       "    <tr>\n",
       "      <th>0</th>\n",
       "      <td>3.201130</td>\n",
       "    </tr>\n",
       "    <tr>\n",
       "      <th>1</th>\n",
       "      <td>4.926031</td>\n",
       "    </tr>\n",
       "    <tr>\n",
       "      <th>2</th>\n",
       "      <td>1.375062</td>\n",
       "    </tr>\n",
       "    <tr>\n",
       "      <th>3</th>\n",
       "      <td>2.860161</td>\n",
       "    </tr>\n",
       "    <tr>\n",
       "      <th>4</th>\n",
       "      <td>8.937723</td>\n",
       "    </tr>\n",
       "    <tr>\n",
       "      <th>...</th>\n",
       "      <td>...</td>\n",
       "    </tr>\n",
       "    <tr>\n",
       "      <th>995</th>\n",
       "      <td>1.100487</td>\n",
       "    </tr>\n",
       "    <tr>\n",
       "      <th>996</th>\n",
       "      <td>3.470782</td>\n",
       "    </tr>\n",
       "    <tr>\n",
       "      <th>997</th>\n",
       "      <td>1.852577</td>\n",
       "    </tr>\n",
       "    <tr>\n",
       "      <th>998</th>\n",
       "      <td>0.143194</td>\n",
       "    </tr>\n",
       "    <tr>\n",
       "      <th>999</th>\n",
       "      <td>0.532726</td>\n",
       "    </tr>\n",
       "  </tbody>\n",
       "</table>\n",
       "<p>1000 rows × 1 columns</p>\n",
       "</div>"
      ],
      "text/plain": [
       "        value\n",
       "0    3.201130\n",
       "1    4.926031\n",
       "2    1.375062\n",
       "3    2.860161\n",
       "4    8.937723\n",
       "..        ...\n",
       "995  1.100487\n",
       "996  3.470782\n",
       "997  1.852577\n",
       "998  0.143194\n",
       "999  0.532726\n",
       "\n",
       "[1000 rows x 1 columns]"
      ]
     },
     "execution_count": 9,
     "metadata": {},
     "output_type": "execute_result"
    }
   ],
   "source": [
    "df"
   ]
  },
  {
   "cell_type": "code",
   "execution_count": 11,
   "id": "2aba851b-ac7a-4299-8e48-0b4cf55366fb",
   "metadata": {},
   "outputs": [
    {
     "name": "stderr",
     "output_type": "stream",
     "text": [
      "C:\\ProgramData\\anaconda3\\Lib\\site-packages\\seaborn\\_oldcore.py:1119: FutureWarning: use_inf_as_na option is deprecated and will be removed in a future version. Convert inf values to NaN before operating instead.\n",
      "  with pd.option_context('mode.use_inf_as_na', True):\n"
     ]
    },
    {
     "data": {
      "text/plain": [
       "<Axes: xlabel='value', ylabel='Count'>"
      ]
     },
     "execution_count": 11,
     "metadata": {},
     "output_type": "execute_result"
    },
    {
     "data": {
      "image/png": "[encoded data removed]",
      "text/plain": [
       "<Figure size 640x480 with 1 Axes>"
      ]
     },
     "metadata": {},
     "output_type": "display_data"
    }
   ],
   "source": [
    "sns.histplot(df['value'])"
   ]
  },
  {
   "cell_type": "code",
   "execution_count": 14,
   "id": "5238e211-50e0-4ac9-9692-331499eba77c",
   "metadata": {},
   "outputs": [
    {
     "data": {
      "text/plain": [
       "1.8720162129329307"
      ]
     },
     "execution_count": 14,
     "metadata": {},
     "output_type": "execute_result"
    }
   ],
   "source": [
    "skew(df['value'])"
   ]
  },
  {
   "cell_type": "code",
   "execution_count": 16,
   "id": "3ae24c0f-f603-4567-a13f-ab834d270266",
   "metadata": {},
   "outputs": [],
   "source": [
    "# Since it is close to 2 Hence therefore the Histogram Plot is the Skew Plot since it is close to the 2 if it is close to the zero then the plot is\n",
    "# the normal plot"
   ]
  },
  {
   "cell_type": "code",
   "execution_count": 18,
   "id": "d0b2b65f-105d-49d7-bb97-b4a86d54a61e",
   "metadata": {},
   "outputs": [],
   "source": [
    "df['square_transformed'] = np.sqrt(df['value'])"
   ]
  },
  {
   "cell_type": "code",
   "execution_count": 19,
   "id": "35d59392-5eb9-4c6b-a819-ea354f6e3f43",
   "metadata": {},
   "outputs": [
    {
     "data": {
      "text/plain": [
       "0      1.789170\n",
       "1      2.219466\n",
       "2      1.172630\n",
       "3      1.691201\n",
       "4      2.989603\n",
       "         ...   \n",
       "995    1.049041\n",
       "996    1.863004\n",
       "997    1.361094\n",
       "998    0.378410\n",
       "999    0.729881\n",
       "Name: square_transformed, Length: 1000, dtype: float64"
      ]
     },
     "execution_count": 19,
     "metadata": {},
     "output_type": "execute_result"
    }
   ],
   "source": [
    "df['square_transformed']"
   ]
  },
  {
   "cell_type": "code",
   "execution_count": 20,
   "id": "ee2ead5e-755e-489d-ac96-2f48c5ba7051",
   "metadata": {},
   "outputs": [
    {
     "name": "stderr",
     "output_type": "stream",
     "text": [
      "C:\\ProgramData\\anaconda3\\Lib\\site-packages\\seaborn\\_oldcore.py:1119: FutureWarning: use_inf_as_na option is deprecated and will be removed in a future version. Convert inf values to NaN before operating instead.\n",
      "  with pd.option_context('mode.use_inf_as_na', True):\n"
     ]
    },
    {
     "data": {
      "text/plain": [
       "<Axes: xlabel='square_transformed', ylabel='Count'>"
      ]
     },
     "execution_count": 20,
     "metadata": {},
     "output_type": "execute_result"
    },
    {
     "data": {
      "image/png": "[encoded data removed]",
      "text/plain": [
       "<Figure size 640x480 with 1 Axes>"
      ]
     },
     "metadata": {},
     "output_type": "display_data"
    }
   ],
   "source": [
    "sns.histplot(df['square_transformed'])"
   ]
  },
  {
   "cell_type": "code",
   "execution_count": 21,
   "id": "4405ce38-e51b-47de-8754-e54cb7ff6a32",
   "metadata": {},
   "outputs": [
    {
     "data": {
      "text/plain": [
       "0.6224107121785726"
      ]
     },
     "execution_count": 21,
     "metadata": {},
     "output_type": "execute_result"
    }
   ],
   "source": [
    "skew(df['square_transformed'])"
   ]
  },
  {
   "cell_type": "code",
   "execution_count": 22,
   "id": "06a18a54-2949-4e2f-91a6-edd43adb54da",
   "metadata": {},
   "outputs": [],
   "source": [
    "# Since the Value of skew is close to zero so the value is in Normal Distribution"
   ]
  },
  {
   "cell_type": "code",
   "execution_count": null,
   "id": "753199f2-5b7b-411f-9db8-fe315557a1e8",
   "metadata": {},
   "outputs": [],
   "source": []
  }
 ],
 "metadata": {
  "kernelspec": {
   "display_name": "Python 3 (ipykernel)",
   "language": "python",
   "name": "python3"
  },
  "language_info": {
   "codemirror_mode": {
    "name": "ipython",
    "version": 3
   },
   "file_extension": ".py",
   "mimetype": "text/x-python",
   "name": "python",
   "nbconvert_exporter": "python",
   "pygments_lexer": "ipython3",
   "version": "3.11.7"
  }
 },
 "nbformat": 4,
 "nbformat_minor": 5
}
